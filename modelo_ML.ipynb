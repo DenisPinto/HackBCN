{
 "cells": [
  {
   "cell_type": "code",
   "execution_count": 27,
   "metadata": {},
   "outputs": [],
   "source": [
    "import pandas as pd\n",
    "from sklearn.model_selection import train_test_split\n",
    "from sklearn.ensemble import RandomForestClassifier\n",
    "from sklearn.metrics import accuracy_score, classification_report\n",
    "\n",
    "flight_data = pd.read_csv('Airlines_with_dummies.csv')\n"
   ]
  },
  {
   "cell_type": "code",
   "execution_count": 28,
   "metadata": {},
   "outputs": [],
   "source": [
    "X = flight_data.drop(columns=['Delay'])  \n",
    "y = flight_data['Delay']"
   ]
  },
  {
   "cell_type": "code",
   "execution_count": 29,
   "metadata": {},
   "outputs": [
    {
     "name": "stdout",
     "output_type": "stream",
     "text": [
      "Shape of X_train: (40000, 4612)\n",
      "Shape of X_test: (10000, 4612)\n",
      "Shape of y_train: (40000,)\n",
      "Shape of y_test: (10000,)\n"
     ]
    }
   ],
   "source": [
    "# Split the data into training and testing sets\n",
    "X_train, X_test, y_train, y_test = train_test_split(X, y, test_size=0.2, random_state=42)\n",
    "\n",
    "# Print the shapes of the training and testing datasets\n",
    "print(\"Shape of X_train:\", X_train.shape)\n",
    "print(\"Shape of X_test:\", X_test.shape)\n",
    "print(\"Shape of y_train:\", y_train.shape)\n",
    "print(\"Shape of y_test:\", y_test.shape)\n"
   ]
  },
  {
   "cell_type": "code",
   "execution_count": 32,
   "metadata": {},
   "outputs": [
    {
     "name": "stdout",
     "output_type": "stream",
     "text": [
      "              precision    recall  f1-score   support\n",
      "\n",
      "           0       0.87      0.77      0.82      6391\n",
      "           1       0.66      0.80      0.73      3609\n",
      "\n",
      "    accuracy                           0.78     10000\n",
      "   macro avg       0.77      0.79      0.77     10000\n",
      "weighted avg       0.80      0.78      0.78     10000\n",
      "\n"
     ]
    }
   ],
   "source": [
    "# Initialize the RandomForestClassifier\n",
    "rf_classifier = RandomForestClassifier(class_weight='balanced', n_estimators=100, max_depth=10, random_state=42)\n",
    "rf_classifier.fit(X_train, y_train)\n",
    "y_pred = rf_classifier.predict(X_test)\n",
    "print(classification_report(y_test, y_pred))\n"
   ]
  },
  {
   "cell_type": "code",
   "execution_count": 33,
   "metadata": {},
   "outputs": [
    {
     "name": "stdout",
     "output_type": "stream",
     "text": [
      "Cross-validated Accuracy: 0.78 (+/- 0.02)\n"
     ]
    }
   ],
   "source": [
    "from sklearn.model_selection import cross_val_score\n",
    "\n",
    "# Cross-validate the RandomForestClassifier\n",
    "scores = cross_val_score(rf_classifier, X_train, y_train, cv=5)\n",
    "print(f\"Cross-validated Accuracy: {scores.mean():.2f} (+/- {scores.std() * 2:.2f})\")\n"
   ]
  },
  {
   "cell_type": "markdown",
   "metadata": {},
   "source": [
    "Metrics Analysis\n",
    "\n",
    "Precision and Recall:\n",
    "Precision: For class 0 (non-delayed flights), precision of 87%. 87% of all predictions for non-delayed flights were correct.\n",
    "Recall: For class 1 (delayed flights), recall of 80%. The model correctly identified 80% of all actual delayed flights.\n",
    "\n",
    "\n",
    "F1-score:\n",
    "For class 0, F1-score of 0.82, for class 1, F1-score of 0.73.\n",
    "\n",
    "Accuracy (Global Precision):\n",
    "The model has an overall accuracy of 78%, indicating that 78% of all predictions made (both delayed and non-delayed flights) were correct.\n",
    "\n",
    "Cross-validated Accuracy:\n",
    "The cross-validated accuracy of 0.78 with a standard deviation of +/- 0.02 suggests that the model has good generalization ability to new data, as there is not a significant variation in performance across different cross-validation datasets."
   ]
  },
  {
   "cell_type": "code",
   "execution_count": 40,
   "metadata": {},
   "outputs": [
    {
     "data": {
      "text/plain": [
       "['rf_model.joblib']"
      ]
     },
     "execution_count": 40,
     "metadata": {},
     "output_type": "execute_result"
    }
   ],
   "source": [
    "# Export model\n",
    "\n",
    "import joblib\n",
    "joblib.dump(rf_classifier, 'rf_model.joblib')\n"
   ]
  }
 ],
 "metadata": {
  "kernelspec": {
   "display_name": "base",
   "language": "python",
   "name": "python3"
  },
  "language_info": {
   "codemirror_mode": {
    "name": "ipython",
    "version": 3
   },
   "file_extension": ".py",
   "mimetype": "text/x-python",
   "name": "python",
   "nbconvert_exporter": "python",
   "pygments_lexer": "ipython3",
   "version": "3.12.4"
  }
 },
 "nbformat": 4,
 "nbformat_minor": 2
}
